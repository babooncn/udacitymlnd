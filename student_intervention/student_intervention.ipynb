{
 "cells": [
  {
   "cell_type": "markdown",
   "metadata": {},
   "source": [
    "# Machine Learning Engineer Nanodegree\n",
    "## Supervised Learning\n",
    "## Project 2: Building a Student Intervention System"
   ]
  },
  {
   "cell_type": "markdown",
   "metadata": {},
   "source": [
    "Welcome to the second project of the Machine Learning Engineer Nanodegree! In this notebook, some template code has already been provided for you, and it will be your job to implement the additional functionality necessary to successfully complete this project. Sections that begin with **'Implementation'** in the header indicate that the following block of code will require additional functionality which you must provide. Instructions will be provided for each section and the specifics of the implementation are marked in the code block with a `'TODO'` statement. Please be sure to read the instructions carefully!\n",
    "\n",
    "In addition to implementing code, there will be questions that you must answer which relate to the project and your implementation. Each section where you will answer a question is preceded by a **'Question X'** header. Carefully read each question and provide thorough answers in the following text boxes that begin with **'Answer:'**. Your project submission will be evaluated based on your answers to each of the questions and the implementation you provide.  \n",
    "\n",
    ">**Note:** Code and Markdown cells can be executed using the **Shift + Enter** keyboard shortcut. In addition, Markdown cells can be edited by typically double-clicking the cell to enter edit mode."
   ]
  },
  {
   "cell_type": "markdown",
   "metadata": {},
   "source": [
    "### Question 1 - Classification vs. Regression\n",
    "*Your goal for this project is to identify students who might need early intervention before they fail to graduate. Which type of supervised learning problem is this, classification or regression? Why?*"
   ]
  },
  {
   "cell_type": "markdown",
   "metadata": {},
   "source": [
    "**Answer: **\n",
    "\n",
    "•\tThis is clearly a classification question as the goal is to predict whether a student is going to be successful or not. Given a student, the ask is to assign the classes “successful” and “not successful” to that student, so that teachers and other people could administer early interventions. Also, this is not a regression problem because we are not trying to predict a continuous output such as predict the final (continuous) score of the student. \n"
   ]
  },
  {
   "cell_type": "markdown",
   "metadata": {},
   "source": [
    "## Exploring the Data\n",
    "Run the code cell below to load necessary Python libraries and load the student data. Note that the last column from this dataset, `'passed'`, will be our target label (whether the student graduated or didn't graduate). All other columns are features about each student."
   ]
  },
  {
   "cell_type": "code",
   "execution_count": 1,
   "metadata": {
    "collapsed": false
   },
   "outputs": [
    {
     "name": "stdout",
     "output_type": "stream",
     "text": [
      "Student data read successfully!\n"
     ]
    }
   ],
   "source": [
    "# Import libraries\n",
    "import numpy as np\n",
    "import pandas as pd\n",
    "from time import time\n",
    "from sklearn.metrics import f1_score\n",
    "\n",
    "# Read student data\n",
    "student_data = pd.read_csv(\"student-data.csv\")\n",
    "print \"Student data read successfully!\""
   ]
  },
  {
   "cell_type": "markdown",
   "metadata": {},
   "source": [
    "### Implementation: Data Exploration\n",
    "Let's begin by investigating the dataset to determine how many students we have information on, and learn about the graduation rate among these students. In the code cell below, you will need to compute the following:\n",
    "- The total number of students, `n_students`.\n",
    "- The total number of features for each student, `n_features`.\n",
    "- The number of those students who passed, `n_passed`.\n",
    "- The number of those students who failed, `n_failed`.\n",
    "- The graduation rate of the class, `grad_rate`, in percent (%).\n"
   ]
  },
  {
   "cell_type": "code",
   "execution_count": 2,
   "metadata": {
    "collapsed": false
   },
   "outputs": [
    {
     "name": "stdout",
     "output_type": "stream",
     "text": [
      "Total number of students: 395\n",
      "Number of features: 30\n",
      "Number of students who passed: 265\n",
      "Number of students who failed: 130\n",
      "Graduation rate of the class: 67.09%\n"
     ]
    }
   ],
   "source": [
    "# TODO: Calculate number of students\n",
    "n_students = student_data.shape[0]\n",
    "\n",
    "# TODO: Calculate number of features\n",
    "n_features = student_data.shape[1] -1\n",
    "\n",
    "# TODO: Calculate passing students\n",
    "n_passed = student_data[student_data['passed'] == 'yes'].shape[0]\n",
    "\n",
    "# TODO: Calculate failing students\n",
    "n_failed = student_data[student_data['passed'] == 'no'].shape[0]\n",
    "\n",
    "# TODO: Calculate graduation rate\n",
    "grad_rate = n_passed / float(n_students)\n",
    "grad_rate = grad_rate * 100\n",
    "\n",
    "# Print the results\n",
    "print \"Total number of students: {}\".format(n_students)\n",
    "print \"Number of features: {}\".format(n_features)\n",
    "print \"Number of students who passed: {}\".format(n_passed)\n",
    "print \"Number of students who failed: {}\".format(n_failed)\n",
    "print \"Graduation rate of the class: {:.2f}%\".format(grad_rate)"
   ]
  },
  {
   "cell_type": "markdown",
   "metadata": {},
   "source": [
    "## Preparing the Data\n",
    "In this section, we will prepare the data for modeling, training and testing.\n",
    "\n",
    "### Identify feature and target columns\n",
    "It is often the case that the data you obtain contains non-numeric features. This can be a problem, as most machine learning algorithms expect numeric data to perform computations with.\n",
    "\n",
    "Run the code cell below to separate the student data into feature and target columns to see if any features are non-numeric."
   ]
  },
  {
   "cell_type": "code",
   "execution_count": 3,
   "metadata": {
    "collapsed": false
   },
   "outputs": [
    {
     "name": "stdout",
     "output_type": "stream",
     "text": [
      "Feature columns:\n",
      "['school', 'sex', 'age', 'address', 'famsize', 'Pstatus', 'Medu', 'Fedu', 'Mjob', 'Fjob', 'reason', 'guardian', 'traveltime', 'studytime', 'failures', 'schoolsup', 'famsup', 'paid', 'activities', 'nursery', 'higher', 'internet', 'romantic', 'famrel', 'freetime', 'goout', 'Dalc', 'Walc', 'health', 'absences']\n",
      "\n",
      "Target column: passed\n",
      "\n",
      "Feature values:\n",
      "  school sex  age address famsize Pstatus  Medu  Fedu     Mjob      Fjob  \\\n",
      "0     GP   F   18       U     GT3       A     4     4  at_home   teacher   \n",
      "1     GP   F   17       U     GT3       T     1     1  at_home     other   \n",
      "2     GP   F   15       U     LE3       T     1     1  at_home     other   \n",
      "3     GP   F   15       U     GT3       T     4     2   health  services   \n",
      "4     GP   F   16       U     GT3       T     3     3    other     other   \n",
      "\n",
      "    ...    higher internet  romantic  famrel  freetime goout Dalc Walc health  \\\n",
      "0   ...       yes       no        no       4         3     4    1    1      3   \n",
      "1   ...       yes      yes        no       5         3     3    1    1      3   \n",
      "2   ...       yes      yes        no       4         3     2    2    3      3   \n",
      "3   ...       yes      yes       yes       3         2     2    1    1      5   \n",
      "4   ...       yes       no        no       4         3     2    1    2      5   \n",
      "\n",
      "  absences  \n",
      "0        6  \n",
      "1        4  \n",
      "2       10  \n",
      "3        2  \n",
      "4        4  \n",
      "\n",
      "[5 rows x 30 columns]\n"
     ]
    }
   ],
   "source": [
    "# Extract feature columns\n",
    "feature_cols = list(student_data.columns[:-1])\n",
    "\n",
    "# Extract target column 'passed'\n",
    "target_col = student_data.columns[-1] \n",
    "\n",
    "# Show the list of columns\n",
    "print \"Feature columns:\\n{}\".format(feature_cols)\n",
    "print \"\\nTarget column: {}\".format(target_col)\n",
    "\n",
    "# Separate the data into feature data and target data (X_all and y_all, respectively)\n",
    "X_all = student_data[feature_cols]\n",
    "y_all = student_data[target_col]\n",
    "\n",
    "# Show the feature information by printing the first five rows\n",
    "print \"\\nFeature values:\"\n",
    "print X_all.head()"
   ]
  },
  {
   "cell_type": "markdown",
   "metadata": {},
   "source": [
    "### Preprocess Feature Columns\n",
    "\n",
    "As you can see, there are several non-numeric columns that need to be converted! Many of them are simply `yes`/`no`, e.g. `internet`. These can be reasonably converted into `1`/`0` (binary) values.\n",
    "\n",
    "Other columns, like `Mjob` and `Fjob`, have more than two values, and are known as _categorical variables_. The recommended way to handle such a column is to create as many columns as possible values (e.g. `Fjob_teacher`, `Fjob_other`, `Fjob_services`, etc.), and assign a `1` to one of them and `0` to all others.\n",
    "\n",
    "These generated columns are sometimes called _dummy variables_, and we will use the [`pandas.get_dummies()`](http://pandas.pydata.org/pandas-docs/stable/generated/pandas.get_dummies.html?highlight=get_dummies#pandas.get_dummies) function to perform this transformation. Run the code cell below to perform the preprocessing routine discussed in this section."
   ]
  },
  {
   "cell_type": "code",
   "execution_count": 4,
   "metadata": {
    "collapsed": false
   },
   "outputs": [
    {
     "name": "stdout",
     "output_type": "stream",
     "text": [
      "Processed feature columns (48 total features):\n",
      "['school_GP', 'school_MS', 'sex_F', 'sex_M', 'age', 'address_R', 'address_U', 'famsize_GT3', 'famsize_LE3', 'Pstatus_A', 'Pstatus_T', 'Medu', 'Fedu', 'Mjob_at_home', 'Mjob_health', 'Mjob_other', 'Mjob_services', 'Mjob_teacher', 'Fjob_at_home', 'Fjob_health', 'Fjob_other', 'Fjob_services', 'Fjob_teacher', 'reason_course', 'reason_home', 'reason_other', 'reason_reputation', 'guardian_father', 'guardian_mother', 'guardian_other', 'traveltime', 'studytime', 'failures', 'schoolsup', 'famsup', 'paid', 'activities', 'nursery', 'higher', 'internet', 'romantic', 'famrel', 'freetime', 'goout', 'Dalc', 'Walc', 'health', 'absences']\n"
     ]
    }
   ],
   "source": [
    "def preprocess_features(X):\n",
    "    ''' Preprocesses the student data and converts non-numeric binary variables into\n",
    "        binary (0/1) variables. Converts categorical variables into dummy variables. '''\n",
    "    \n",
    "    # Initialize new output DataFrame\n",
    "    output = pd.DataFrame(index = X.index)\n",
    "\n",
    "    # Investigate each feature column for the data\n",
    "    for col, col_data in X.iteritems():\n",
    "        \n",
    "        # If data type is non-numeric, replace all yes/no values with 1/0\n",
    "        if col_data.dtype == object:\n",
    "            col_data = col_data.replace(['yes', 'no'], [1, 0])\n",
    "\n",
    "        # If data type is categorical, convert to dummy variables\n",
    "        if col_data.dtype == object:\n",
    "            # Example: 'school' => 'school_GP' and 'school_MS'\n",
    "            col_data = pd.get_dummies(col_data, prefix = col)  \n",
    "        \n",
    "        # Collect the revised columns\n",
    "        output = output.join(col_data)\n",
    "    \n",
    "    return output\n",
    "\n",
    "X_all = preprocess_features(X_all)\n",
    "\n",
    "print \"Processed feature columns ({} total features):\\n{}\".format(len(X_all.columns), list(X_all.columns))"
   ]
  },
  {
   "cell_type": "markdown",
   "metadata": {},
   "source": [
    "### Implementation: Training and Testing Data Split\n",
    "So far, we have converted all _categorical_ features into numeric values. For the next step, we split the data (both features and corresponding labels) into training and test sets. In the following code cell below, you will need to implement the following:\n",
    "- Randomly shuffle and split the data (`X_all`, `y_all`) into training and testing subsets.\n",
    "  - Use 300 training points (approximately 75%) and 95 testing points (approximately 25%).\n",
    "  - Set a `random_state` for the function(s) you use, if provided.\n",
    "  - Store the results in `X_train`, `X_test`, `y_train`, and `y_test`."
   ]
  },
  {
   "cell_type": "code",
   "execution_count": 5,
   "metadata": {
    "collapsed": false
   },
   "outputs": [
    {
     "name": "stdout",
     "output_type": "stream",
     "text": [
      "Num Test 95\n",
      "-------------------------------------------------\n",
      "Training set has 300 samples.\n",
      "Testing set has 95 samples.\n"
     ]
    }
   ],
   "source": [
    "# TODO: Import any additional functionality you may need here\n",
    "from sklearn.cross_validation import StratifiedShuffleSplit\n",
    "\n",
    "# TODO: Set the number of training points\n",
    "num_train = 300\n",
    "\n",
    "# Set the number of testing points\n",
    "num_test = X_all.shape[0] - num_train\n",
    "print \"Num Test\", num_test\n",
    "# TODO: Shuffle and split the dataset into the number of training and testing points above\n",
    "\n",
    "X_train = None\n",
    "X_test  = None\n",
    "y_train = None\n",
    "y_test = None\n",
    "\n",
    "def split_shuffle(X, y, num_train):\n",
    "    \n",
    "    shuffleSplit = StratifiedShuffleSplit(y, 1, .24)\n",
    "    #print shuffleSplit\n",
    "    for train_index, test_index in shuffleSplit:\n",
    "        X_train = X.iloc[train_index]\n",
    "        X_test = X.iloc[test_index]\n",
    "        y_train, y_test = y.iloc[train_index], y.iloc[test_index]\n",
    "      \n",
    "        #print train_index, \"\", train_index\n",
    "   \n",
    "    return X_train, X_test, y_train, y_test\n",
    "\n",
    "y_all = student_data['passed']\n",
    "\n",
    "#print \"YYY:\",y_all.shape[0]\n",
    "\n",
    "X_train, X_test, y_train, y_test = split_shuffle(X_all, y_all, num_train)\n",
    "\n",
    "\n",
    "print \"-------------------------------------------------\"\n",
    "#X_train = None\n",
    "#X_test = None\n",
    "#y_train = None\n",
    "#y_test = None\n",
    "\n",
    "# Show the results of the split\n",
    "print \"Training set has {} samples.\".format(X_train.shape[0])\n",
    "print \"Testing set has {} samples.\".format(X_test.shape[0])\n"
   ]
  },
  {
   "cell_type": "markdown",
   "metadata": {},
   "source": [
    "## Training and Evaluating Models\n",
    "In this section, you will choose 3 supervised learning models that are appropriate for this problem and available in `scikit-learn`. You will first discuss the reasoning behind choosing these three models by considering what you know about the data and each model's strengths and weaknesses. You will then fit the model to varying sizes of training data (100 data points, 200 data points, and 300 data points) and measure the F<sub>1</sub> score. You will need to produce three tables (one for each model) that shows the training set size, training time, prediction time, F<sub>1</sub> score on the training set, and F<sub>1</sub> score on the testing set."
   ]
  },
  {
   "cell_type": "markdown",
   "metadata": {},
   "source": [
    "### Question 2 - Model Application\n",
    "*List three supervised learning models that are appropriate for this problem. What are the general applications of each model? What are their strengths and weaknesses? Given what you know about the data, why did you choose these models to be applied?*"
   ]
  },
  {
   "cell_type": "markdown",
   "metadata": {},
   "source": [
    "**Answer: **\n",
    "\n",
    "About dataset\n",
    "\n",
    "\n",
    "\t1) There are more features relative to the number of training instances, which might\n",
    "\t   make models more likely to suffer overfitting.\n",
    "\t\n",
    "\t2) The labels are imbalanced. Instead of having similar amounts of\n",
    "\t\tstudents who passed and students who failed, there is bit more of the\n",
    "\t\tlatter than the former\n",
    "\n",
    "\t3)  Student performance characteristics tend to follow Gaussian (Normal) distribution\n",
    "\n",
    "In summary, because of labels being unbalanced, some models are likely to perform poorly.\n",
    "\n",
    "For our project, I have chosen Random Forest, Gradient Boosting and Gaussian Bayes Classifier algorithms.  I wanted to try both deterministic and probabilistic approach. For deterministic approach, as a first choice Random forest is the best. Random Forest is considered to be the most popular and successful algorithm to be considered as a first choice.  With some tuning/boosting, Gradient Boosting is a good choice. Since the dataset tend to follow Normal distribution, I have selected Gaussian Bayes Classifier as the third one.\n",
    "\n",
    "\n",
    "Random forest\n",
    "-----------------\n",
    "\n",
    "Random Forests are a combination of tree predictors where each tree depends on the values of a random vector sampled independently with the same distribution for all trees in the forest. The basic principle is that a group of “weak learners” can come together to form a “strong learner”. \n",
    "\n",
    "Random Forests are a wonderful tool for making predictions considering they do not overfit because of the law of large numbers. Introducing the right kind of randomness makes them accurate classifiers and regressors.\n",
    "\n",
    "Applicability:\n",
    "\n",
    "Random forests can be used for classification or regression analysis. They are an ensemble of different trees and are used for classification or nonlinear multiple regression. Each leaf contains a distribution for the random/continuous output variable/s.\n",
    "\n",
    "Examples Applications using Random Forest\n",
    "\n",
    "\t* Predicting Customer Retentions\n",
    "\t* Many applications in Medical and Bioinformatics\n",
    "\t* Face recognitions systems\n",
    "\n",
    "\n",
    "Strengths\n",
    "\n",
    "•\tMost accurate learning algorithm. For many data sets, it produces a highly accurate classifier.\n",
    "•\tFast to build and even faster to predict\n",
    "•\tFully parallelizable \n",
    "•\tResistance to over training\n",
    "•\tRuns efficiently on large data bases\n",
    "•\tGives estimates of what variables are important in the classification\n",
    "•\tProvides effective methods for estimating missing data\n",
    "•\tProvides methods for balancing error in class population unbalanced data sets\n",
    "•\tGenerated forests can be saved for future use on other data\n",
    "•\tCan handle thousands of input variables without variable deletion.\n",
    "\n",
    "\n",
    "Weakness\n",
    "\n",
    "•\tRandom forests have been observed to overfit for some datasets with noisy classification/regression tasks.\n",
    "\n",
    "•\tFor data including categorical variables with different number of levels, random forests are biased in favor of those attributes with more levels. Therefore, the variable importance scores from random forest are not reliable for this type of data.\n",
    "\n",
    "•\tMost implementations of Random Forests are slow when you have a large number of features \n",
    "\n",
    "•\tRandom Forests aren't good at generalizing to cases with completely new data. For example, if I tell you that 1 chocolate costs $1, 2 chocolates cost $2, and 3 chocolates cost $3, how much do 10 chocolates cost? A linear regression can easily figure this out, while a Random Forest has no way of finding the answer.\n",
    "\n",
    "I have selected Random forest as a first choice because Random Forest is one of the best base model to start with.  There are no or very minimal tuning required and works very well for small and larger data set.\n",
    "\n",
    "\n",
    "Gradient Boosting \n",
    "------------------------------\n",
    "\n",
    "Gradient boosting algorithms are a family of powerful machine-learning techniques that have shown considerable success in a wide range of practical applications. \n",
    "\n",
    "They are highly customizable to the particular needs of the application, like being learned with respect to different loss functions. \n",
    "\n",
    "A common task that appears in different machine learning applications is to build a non-parametric regression or classification model from the data. When designing a model in domain-specific areas, one strategy is to build a model from theory and adjust its parameters based on the observed data. \n",
    "\n",
    "The main idea of boosting is to add new models to the ensemble sequentially. At each particular iteration, a new weak, base-learner model is trained with respect to the error of the whole ensemble learnt so far. \n",
    "\n",
    "In gradient boosting, the learning procedure consecutively fits new models to provide a more accurate estimate of the response variable. The principle idea behind this algorithm is to construct the new base-learners to be maximally correlated with the negative gradient of the loss function, associated with the whole ensemble. \n",
    "\n",
    "The loss functions applied can be arbitrary, but to give a better intuition, if the error function is the classic squared-error loss, the learning procedure would result in consecutive error-fitting. In general, the choice of the loss function is up to the researcher, with both a rich variety of loss functions derived so far and with the possibility of implementing one's own task-specific loss.\n",
    "\n",
    "Strengths\n",
    "\n",
    "• Heterogeneous data (features measured on different scale)\n",
    "• Supports different loss functions (e.g. huber)\n",
    "• Automatically detects (non-linear) feature interactions\n",
    "\n",
    "Weakness\n",
    "\n",
    "* More concretely, GBDTs have more hyper-parameters to tune and are also more prone to overfitting\n",
    "• Requires careful tuning\n",
    "• Slow to train (but fast to predict)\n",
    "• Cannot extrapolate\n",
    "\n",
    "\n",
    "I have selected Gradient Boosting as a second choice mainly to understand whether tuning/boosting can help to get better results.  Often times, boosting and selecting proper loss function would help the model to be more accurate.\n",
    "\n",
    "\n",
    "Gaussian Bayes Classifier\n",
    "-----------------------\n",
    "\n",
    "-\tGaussian Bayesian classifiers assume attributes have independent distributions\n",
    "-\tEach feature has a Gaussian distribution\n",
    "\n",
    "Example:\n",
    "\n",
    "Many medical images/processing applications \n",
    "\n",
    "Strengths\n",
    "\n",
    "* Fast to train (single scan). Fast to classify\n",
    "* Not sensitive to irrelevant features\n",
    "* Handles real and discrete data\n",
    "* Handles streaming data well\n",
    "* Naïve Bayes is fast and space efficient\n",
    "* Naïve Bayes is NOT sensitive to irrelevant features\n",
    "* If the NB conditional independence assumption actually holds, a Naive Bayes classifier will converge quicker than discriminative models like logistic regression, so you need less training data. \n",
    " * A good bet if you want to do some kind of semi-supervised learning\n",
    "\n",
    " *The Bayes classification rule minimizes any potential misclassifications \n",
    "\n",
    "\n",
    "Weakness\n",
    "\t\n",
    "The Naive Bayes classifier assumes that all variables are conditionally independent given the outcome. This assumption rarely holds in practice\n",
    "\n",
    "I have selected Gaussian Bayes Classifier as a third choice to understand whether probabilistic model would give better accuracy. If the features have independent distributions (as Gaussian or normal), this technique is probably the best one as the training time is very quick.\n",
    "\n",
    "\n"
   ]
  },
  {
   "cell_type": "markdown",
   "metadata": {},
   "source": [
    "### Setup\n",
    "Run the code cell below to initialize three helper functions which you can use for training and testing the three supervised learning models you've chosen above. The functions are as follows:\n",
    "- `train_classifier` - takes as input a classifier and training data and fits the classifier to the data.\n",
    "- `predict_labels` - takes as input a fit classifier, features, and a target labeling and makes predictions using the F<sub>1</sub> score.\n",
    "- `train_predict` - takes as input a classifier, and the training and testing data, and performs `train_clasifier` and `predict_labels`.\n",
    " - This function will report the F<sub>1</sub> score for both the training and testing data separately."
   ]
  },
  {
   "cell_type": "code",
   "execution_count": 6,
   "metadata": {
    "collapsed": false
   },
   "outputs": [],
   "source": [
    "def train_classifier(clf, X_train, y_train):\n",
    "    ''' Fits a classifier to the training data. '''\n",
    "    \n",
    "    # Start the clock, train the classifier, then stop the clock\n",
    "    start = time()\n",
    "    clf.fit(X_train, y_train)\n",
    "    end = time()\n",
    "    \n",
    "    # Print the results\n",
    "    print \"Trained model in {:.4f} seconds\".format(end - start)\n",
    "\n",
    "    \n",
    "def predict_labels(clf, features, target):\n",
    "    ''' Makes predictions using a fit classifier based on F1 score. '''\n",
    "    \n",
    "    # Start the clock, make predictions, then stop the clock\n",
    "    start = time()\n",
    "    y_pred = clf.predict(features)\n",
    "    end = time()\n",
    "    \n",
    "    # Print and return results\n",
    "    print \"Made predictions in {:.4f} seconds.\".format(end - start)\n",
    "    return f1_score(target.values, y_pred, pos_label='yes')\n",
    "\n",
    "\n",
    "def train_predict(clf, X_train, y_train, X_test, y_test):\n",
    "    ''' Train and predict using a classifer based on F1 score. '''\n",
    "    \n",
    "    # Indicate the classifier and the training set size\n",
    "    #print \"Training a {} using a training set size of {}. . .\".format(clf.__class__.__name__, len(X_train))\n",
    "    \n",
    "    # Train the classifier\n",
    "    train_classifier(clf, X_train, y_train)\n",
    "    \n",
    "    # Print the results of prediction for both training and testing\n",
    "    print \"F1 score for training set: {:.4f}.\".format(predict_labels(clf, X_train, y_train))\n",
    "    print \"F1 score for test set: {:.4f}.\".format(predict_labels(clf, X_test, y_test))"
   ]
  },
  {
   "cell_type": "markdown",
   "metadata": {},
   "source": [
    "### Implementation: Model Performance Metrics\n",
    "With the predefined functions above, you will now import the three supervised learning models of your choice and run the `train_predict` function for each one. Remember that you will need to train and predict on each classifier for three different training set sizes: 100, 200, and 300. Hence, you should expect to have 9 different outputs below — 3 for each model using the varying training set sizes. In the following code cell, you will need to implement the following:\n",
    "- Import the three supervised learning models you've discussed in the previous section.\n",
    "- Initialize the three models and store them in `clf_A`, `clf_B`, and `clf_C`.\n",
    " - Use a `random_state` for each model you use, if provided.\n",
    " - **Note:** Use the default settings for each model — you will tune one specific model in a later section.\n",
    "- Create the different training set sizes to be used to train each model.\n",
    " - *Do not reshuffle and resplit the data! The new training points should be drawn from `X_train` and `y_train`.*\n",
    "- Fit each model with each training set size and make predictions on the test set (9 in total).  \n",
    "**Note:** Three tables are provided after the following code cell which can be used to store your results."
   ]
  },
  {
   "cell_type": "code",
   "execution_count": 7,
   "metadata": {
    "collapsed": false
   },
   "outputs": [
    {
     "name": "stdout",
     "output_type": "stream",
     "text": [
      "\n",
      "RandomForestClassifier: \n",
      "\n",
      "\n",
      "\n",
      "For Dataset size: 100\n",
      "Trained model in 0.0723 seconds\n",
      "Made predictions in 0.0026 seconds.\n",
      "F1 score for training set: 1.0000.\n",
      "Made predictions in 0.0027 seconds.\n",
      "F1 score for test set: 0.7887.\n",
      "\n",
      "\n",
      "For Dataset size: 200\n",
      "Trained model in 0.0756 seconds\n",
      "Made predictions in 0.0026 seconds.\n",
      "F1 score for training set: 1.0000.\n",
      "Made predictions in 0.0020 seconds.\n",
      "F1 score for test set: 0.7801.\n",
      "\n",
      "\n",
      "For Dataset size: 300\n",
      "Trained model in 0.0832 seconds\n",
      "Made predictions in 0.0034 seconds.\n",
      "F1 score for training set: 0.9975.\n",
      "Made predictions in 0.0023 seconds.\n",
      "F1 score for test set: 0.8194.\n",
      "\n",
      "GradientBoostingClassifier: \n",
      "\n",
      "\n",
      "\n",
      "For Dataset size: 100\n",
      "Trained model in 0.0018 seconds\n",
      "Made predictions in 0.0014 seconds.\n",
      "F1 score for training set: 0.8323.\n",
      "Made predictions in 0.0003 seconds.\n",
      "F1 score for test set: 0.8188.\n",
      "\n",
      "\n",
      "For Dataset size: 200\n",
      "Trained model in 0.0030 seconds\n",
      "Made predictions in 0.0003 seconds.\n",
      "F1 score for training set: 0.8146.\n",
      "Made predictions in 0.0002 seconds.\n",
      "F1 score for test set: 0.8235.\n",
      "\n",
      "\n",
      "For Dataset size: 300\n",
      "Trained model in 0.0040 seconds\n",
      "Made predictions in 0.0004 seconds.\n",
      "F1 score for training set: 0.8024.\n",
      "Made predictions in 0.0003 seconds.\n",
      "F1 score for test set: 0.8050.\n",
      "\n",
      "GaussianNB: \n",
      "\n",
      "\n",
      "\n",
      "For Dataset size: 100\n",
      "Trained model in 0.0007 seconds\n",
      "Made predictions in 0.0003 seconds.\n",
      "F1 score for training set: 0.5319.\n",
      "Made predictions in 0.0003 seconds.\n",
      "F1 score for test set: 0.2857.\n",
      "\n",
      "\n",
      "For Dataset size: 200\n",
      "Trained model in 0.0008 seconds\n",
      "Made predictions in 0.0003 seconds.\n",
      "F1 score for training set: 0.7899.\n",
      "Made predictions in 0.0003 seconds.\n",
      "F1 score for test set: 0.8060.\n",
      "\n",
      "\n",
      "For Dataset size: 300\n",
      "Trained model in 0.0009 seconds\n",
      "Made predictions in 0.0005 seconds.\n",
      "F1 score for training set: 0.7794.\n",
      "Made predictions in 0.0003 seconds.\n",
      "F1 score for test set: 0.7852.\n"
     ]
    }
   ],
   "source": [
    "# TODO: Import the three supervised learning models from sklearn\n",
    "# from sklearn import model_A\n",
    "# from sklearn import model_B\n",
    "# from skearln import model_C\n",
    "from sklearn.linear_model import SGDClassifier\n",
    "from sklearn.ensemble import RandomForestClassifier\n",
    "from sklearn.ensemble import AdaBoostClassifier\n",
    "from sklearn.naive_bayes import GaussianNB \n",
    "from sklearn.ensemble import GradientBoostingClassifier\n",
    "\n",
    "# TODO: Initialize the three models\n",
    "clf_A = RandomForestClassifier(n_estimators=30,random_state=0) #n_estimators=30,\n",
    "clf_B = GradientBoostingClassifier(n_estimators=3,random_state=0) #n_estimators=3\n",
    "clf_C = GaussianNB()  ## seems there is no method to random_state for GaussianNB\n",
    "\n",
    "\n",
    "y_all = student_data['passed']\n",
    "\n",
    "# TODO: Set up the training set sizes\n",
    "\n",
    "X_train, X_test, y_train, y_test = split_shuffle(X_all, y_all, 300)\n",
    "for clf in [clf_A, clf_B, clf_C]:\n",
    "    print \"\\n{}: \\n\".format(clf.__class__.__name__)\n",
    "    for n in [100, 200, 300]:\n",
    "        print \"\\n\\nFor Dataset size:\",n\n",
    "        train_predict(clf, X_train[:n], y_train[:n], X_test, y_test)\n",
    "\n",
    "\n"
   ]
  },
  {
   "cell_type": "markdown",
   "metadata": {},
   "source": [
    "### Tabular Results\n",
    "Edit the cell below to see how a table can be designed in [Markdown](https://github.com/adam-p/markdown-here/wiki/Markdown-Cheatsheet#tables). You can record your results from above in the tables provided."
   ]
  },
  {
   "cell_type": "markdown",
   "metadata": {},
   "source": [
    "** Classifer 1 - RandomForestClassifier  \n",
    "\n",
    "| Training Set Size | Prediction Time (train) | Prediction Time (test) | F1 Score (train) | F1 Score (test) |\n",
    "| :---------------: | :---------------------: | :--------------------: | :--------------: | :-------------: |\n",
    "| 100               | 0.0856                 |         0.0023        |      1.0000      |    0.7945      |\n",
    "| 200               | 0.0756                 |         0.0030         |       1.0000      |    0.7801      |\n",
    "| 300               | 0.0786               |         0.0033         |      0.9975      |      0.7917   |\n",
    "\n",
    "** Classifer 2 - GradientBoostingClassifier \n",
    "\n",
    "| Training Set Size | Prediction Time (train) | Prediction Time (test) | F1 Score (train) | F1 Score (test) |\n",
    "| :---------------: | :---------------------: | :--------------------: | :--------------: | :-------------: |\n",
    "| 100               |   0.0021              |     0.0003             |    0.8214        |    0.8050     |     \n",
    "| 200               |   0.0025                |     0.0002             |    0.8571        |    0.8112      |\n",
    "| 300               |   0.0031                |     0.0003             |    0.8315        |    0.8053        |\n",
    "\n",
    "** Classifer 3 - GaussianNB  \n",
    "\n",
    "| Training Set Size | Prediction Time (train) | Prediction Time (test) | F1 Score (train) | F1 Score (test) |\n",
    "| :---------------: | :---------------------: | :--------------------: | :--------------: | :-------------: |\n",
    "| 100               |     0.0006              |         0.0003         |     0.6604    |     0.5524  |\n",
    "| 200               |     0.0008             |         0.0003         |     0.7895      |     0.7097     |\n",
    "| 300               |       0.0008         |       0.0003          |     0.7904         |     0.7460    |"
   ]
  },
  {
   "cell_type": "code",
   "execution_count": null,
   "metadata": {
    "collapsed": true
   },
   "outputs": [],
   "source": []
  },
  {
   "cell_type": "markdown",
   "metadata": {},
   "source": [
    "## Choosing the Best Model\n",
    "In this final section, you will choose from the three supervised learning models the *best* model to use on the student data. You will then perform a grid search optimization for the model over the entire training set (`X_train` and `y_train`) by tuning at least one parameter to improve upon the untuned model's F<sub>1</sub> score. \n",
    "\n",
    "\n",
    "\n"
   ]
  },
  {
   "cell_type": "markdown",
   "metadata": {},
   "source": [
    "### Question 3 - Chosing the Best Model\n",
    "*Based on the experiments you performed earlier, in one to two paragraphs, explain to the board of supervisors what single model you chose as the best model. Which model is generally the most appropriate based on the available data, limited resources, cost, and performance?*"
   ]
  },
  {
   "cell_type": "markdown",
   "metadata": {},
   "source": [
    "**Answer: **\n",
    "\n",
    "\n",
    "The data set given has small number of training instances compared to the number of features. This might lead to models to overfitting. Ideally, we want a classifier that is correct as much as possible using least amount of space and time. Support Vector Machines is not a good choice beacuse of small number of data points.\n",
    "\n",
    "The three models I have preselected are\n",
    "\n",
    "•\tRandom Forest \n",
    "•\tGradientBoostingClassifier\n",
    "•\tGaussianNB\n",
    "\n",
    "\n",
    "Notes from using Random Forest experiment\n",
    "\n",
    "    - Using Random Forests, we end up having small decision trees and it helps in preventing overfitting. \n",
    "    - The training and testing time of Random Forest is much higher than other two methdods\n",
    "    - F1 score for training time is better than others but F1 scores for testing time is lower\n",
    "\n",
    "Notes from using GradientBoostingClassifier experiment\n",
    "\n",
    "    - GradientBoostingClassifier finds weak learners that perform better and better on the previously incorrect\n",
    "      predictions. In this experiment, we did not run GradientBoostingClassifier many times.\n",
    "\n",
    "- The F1 score for training and testing is significantly better than Random Forest experiment & slightly better than Gaussian NB \n",
    "\n",
    "\n",
    "Notes from using Gaussian Naïve Bayes experiment\n",
    "\n",
    "    - Gaussian Naïve Bayes significantly faster than other models. \n",
    "    - F1 score for training and test is NOT better than GradientBoostingClassifier\n",
    "\n",
    "\n",
    "In summary, \n",
    "\n",
    "    - The best overall performing model is GradientBoostingClassifier\n",
    "    "
   ]
  },
  {
   "cell_type": "markdown",
   "metadata": {},
   "source": [
    "### Question 4 - Model in Layman's Terms\n",
    "*In one to two paragraphs, explain to the board of directors in layman's terms how the final model chosen is supposed to work. For example if you've chosen to use a decision tree or a support vector machine, how does the model go about making a prediction?*"
   ]
  },
  {
   "cell_type": "markdown",
   "metadata": {},
   "source": [
    "**Answer: **\n",
    "\n",
    "Here is the metaphor (little story) that I am trying to explain in layman terms.\n",
    "\n",
    "Imagine that, one nice morning, stundetns in a high scholl AP History class need to read few books and answer for 20 questions. There are 100 students.  The goal is to answer those 20 questions with minimum error as possible.\n",
    "\n",
    "The teacher divides the student in 20 teams. Each team have 5 students. The students in a team can have varying expertise. Some may be Seniors and others may Juniors or Freshman. They come with different backgrounds - meaning some might have taken similar courses etc.\n",
    "\n",
    "The answers are in binary form : Yes or No.  The aim of the process is to figure out maximum correct answers  Any member can be a  part of more than 1 team.\n",
    "\n",
    "The  process starts with a random guess of answers for all 20 questions. The process then forms a first team and then get the answers. Then it calculates error  ( = Actual - Predicted Answer). \n",
    "\n",
    "Next, the process builds a (new) team of 5 members, which reduces the error by maximum. Again, it calculates the  error. The second team has to reduce the error rate further.  Next team  doesn't trust its previous partner fully, so it assume that answers are  correct with x probability (learning rate). This process go on till 20 teams are build and answers are improved each time. \n",
    "\n",
    "In layman’s terms, Gradient Boosting is basically about \"boosting\" many weak predictive models into a strong one, in the form of ensemble of weak models. Here, a weak predict model can be any model that works just a little better than random guess. \n",
    "\n",
    "In our Student example, team expertiese corresponds to model, questions are training data set and no of steps (20) are decision trees. The student with many roles, participated in many teams is important varibale.\n",
    "\n",
    "In AdaBoost, arguably the most popular boosting algorithm, weak models are trained in an adaptive way. In Gradient boosting, new base-learners is maximally correlated with the negative gradient of the loss function. The choice of the loss function is up to the researcher, with both a rich variety of loss functions derived so far and with the possibility of implementing new ones.\n",
    "\n",
    "\n",
    "\n"
   ]
  },
  {
   "cell_type": "markdown",
   "metadata": {},
   "source": [
    "### Implementation: Model Tuning\n",
    "Fine tune the chosen model. Use grid search (`GridSearchCV`) with at least one important parameter tuned with at least 3 different values. You will need to use the entire training set for this. In the code cell below, you will need to implement the following:\n",
    "- Import [`sklearn.grid_search.gridSearchCV`](http://scikit-learn.org/stable/modules/generated/sklearn.grid_search.GridSearchCV.html) and [`sklearn.metrics.make_scorer`](http://scikit-learn.org/stable/modules/generated/sklearn.metrics.make_scorer.html).\n",
    "- Create a dictionary of parameters you wish to tune for the chosen model.\n",
    " - Example: `parameters = {'parameter' : [list of values]}`.\n",
    "- Initialize the classifier you've chosen and store it in `clf`.\n",
    "- Create the F<sub>1</sub> scoring function using `make_scorer` and store it in `f1_scorer`.\n",
    " - Set the `pos_label` parameter to the correct value!\n",
    "- Perform grid search on the classifier `clf` using `f1_scorer` as the scoring method, and store it in `grid_obj`.\n",
    "- Fit the grid search object to the training data (`X_train`, `y_train`), and store it in `grid_obj`."
   ]
  },
  {
   "cell_type": "code",
   "execution_count": 8,
   "metadata": {
    "collapsed": false
   },
   "outputs": [
    {
     "name": "stdout",
     "output_type": "stream",
     "text": [
      "Made predictions in 0.0003 seconds.\n",
      "Tuned model has a training F1 score of 0.8072.\n",
      "Made predictions in 0.0004 seconds.\n",
      "Tuned model has a testing F1 score of 0.8050.\n"
     ]
    }
   ],
   "source": [
    "# TODO: Import 'gridSearchCV' and 'make_scorer'\n",
    "\n",
    "from sklearn.grid_search import GridSearchCV\n",
    "from sklearn.metrics import fbeta_score, make_scorer\n",
    "\n",
    "from sklearn.metrics import f1_score\n",
    "from sklearn.metrics import make_scorer\n",
    "\n",
    "\n",
    "parameters = {'learning_rate': [0.01, 0.05, 0.09, 0.1, 0.15, 0.25, 0.75, 1, 1.25, 3, 4, 5]}\n",
    "\n",
    "# TODO: Initialize the classifier\n",
    "clf = clf_B\n",
    "\n",
    "pos_label=\"yes\"\n",
    "\n",
    "# TODO: Make an f1 scoring function using 'make_scorer' \n",
    "f1_scorer = make_scorer(f1_score, pos_label=\"yes\")\n",
    "\n",
    "# TODO: Perform grid search on the classifier using the f1_scorer as the scoring method\n",
    "grid_obj = GridSearchCV(clf, parameters, scoring= f1_scorer)\n",
    "\n",
    "# TODO: Fit the grid search object to the training data and find the optimal parameters\n",
    "\n",
    "X_train, X_test, y_train, y_test = split_shuffle(X_all, y_all, 300)\n",
    "\n",
    "grid_obj=grid_obj.fit(X_train, y_train)\n",
    "\n",
    "# Get the estimator\n",
    "clf = grid_obj.best_estimator_\n",
    "\n",
    "#print clf.estimator.get_params().keys()\n",
    "# Report the final F1 score for training and testing after parameter tuning\n",
    "print \"Tuned model has a training F1 score of {:.4f}.\".format(predict_labels(clf, X_train, y_train))\n",
    "print \"Tuned model has a testing F1 score of {:.4f}.\".format(predict_labels(clf, X_test, y_test))"
   ]
  },
  {
   "cell_type": "markdown",
   "metadata": {},
   "source": [
    "### Question 5 - Final F<sub>1</sub> Score\n",
    "*What is the final model's F<sub>1</sub> score for training and testing? How does that score compare to the untuned model?*"
   ]
  },
  {
   "cell_type": "markdown",
   "metadata": {},
   "source": [
    "**Answer: **\n",
    "\n",
    "Made predictions in 0.0003 seconds.\n",
    "Tuned model has a training F1 score of 0.8053\n",
    "Made predictions in 0.0002 seconds.\n",
    "Tuned model has a testing F1 score of 0.8258.\n",
    "\n",
    "After tuning, you can find that F1 score for test is imporved noticably. For large data set, it will make a difference.\n",
    "\n"
   ]
  },
  {
   "cell_type": "markdown",
   "metadata": {},
   "source": [
    "> **Note**: Once you have completed all of the code implementations and successfully answered each question above, you may finalize your work by exporting the iPython Notebook as an HTML document. You can do this by using the menu above and navigating to  \n",
    "**File -> Download as -> HTML (.html)**. Include the finished document along with this notebook as your submission."
   ]
  },
  {
   "cell_type": "code",
   "execution_count": null,
   "metadata": {
    "collapsed": true
   },
   "outputs": [],
   "source": []
  },
  {
   "cell_type": "code",
   "execution_count": null,
   "metadata": {
    "collapsed": true
   },
   "outputs": [],
   "source": []
  },
  {
   "cell_type": "code",
   "execution_count": null,
   "metadata": {
    "collapsed": true
   },
   "outputs": [],
   "source": []
  }
 ],
 "metadata": {
  "anaconda-cloud": {},
  "kernelspec": {
   "display_name": "Python [conda root]",
   "language": "python",
   "name": "conda-root-py"
  },
  "language_info": {
   "codemirror_mode": {
    "name": "ipython",
    "version": 2
   },
   "file_extension": ".py",
   "mimetype": "text/x-python",
   "name": "python",
   "nbconvert_exporter": "python",
   "pygments_lexer": "ipython2",
   "version": "2.7.12"
  }
 },
 "nbformat": 4,
 "nbformat_minor": 0
}
